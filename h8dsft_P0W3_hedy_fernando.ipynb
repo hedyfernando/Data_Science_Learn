{
  "nbformat": 4,
  "nbformat_minor": 0,
  "metadata": {
    "colab": {
      "name": "h8dsft_P0W3_hedy_fernando.ipynb",
      "provenance": [],
      "collapsed_sections": [],
      "authorship_tag": "ABX9TyO61ZRY93RhXAfDmpGntDpu",
      "include_colab_link": true
    },
    "kernelspec": {
      "name": "python3",
      "display_name": "Python 3"
    },
    "language_info": {
      "name": "python"
    }
  },
  "cells": [
    {
      "cell_type": "markdown",
      "metadata": {
        "id": "view-in-github",
        "colab_type": "text"
      },
      "source": [
        "<a href=\"https://colab.research.google.com/github/hedyfernando/Data_Science_Learn/blob/main/h8dsft_P0W3_hedy_fernando.ipynb\" target=\"_parent\"><img src=\"https://colab.research.google.com/assets/colab-badge.svg\" alt=\"Open In Colab\"/></a>"
      ]
    },
    {
      "cell_type": "markdown",
      "source": [
        "## Name : Hedy Fernando\n",
        "## Batch : 001-HCK\n"
      ],
      "metadata": {
        "id": "26lH2Fsz3C9_"
      }
    },
    {
      "cell_type": "markdown",
      "source": [
        "### Objective :\n",
        "- Mampu memperoleh data menggunakan BigQuery\n",
        "- Mampu melakukan pemrosesan data sebelum melakukan perhitungan dan analisa\n",
        "- Mampu menerapkan konsep statistics pada persoalan\n",
        "- Memahami dasar Pengetahuan Bisnis"
      ],
      "metadata": {
        "id": "WFaJkIM43Xuw"
      }
    },
    {
      "cell_type": "markdown",
      "source": [
        "### Problem Statement\n",
        "- Divisi Marketing dari The Look e-commerce ingin mengetahui, berapa persentase pengguna loyal yang diklasifikasikan telah melakukan minimal 3 transaksi dari Januari 2022 hingga Juni 2022.\n",
        "- Berapa rata-rata,minimal dan maksimal dari transaksi yang telah dilakukan oleh user loyal.\n",
        "- Berapa rata-rata,minimal dan maksimal uang yang telah dihabiskan oleh user loyal.\n",
        "- Traffic Source mana yang banyak digunakan oleh pengguna loyal untuk mengakses platform The Look Ecommerce.\n",
        "- Apakah variabel Traffic Source mempengaruhi variabel Loyal dan menentukan pengguna loyal atau tidak loyal."
      ],
      "metadata": {
        "id": "W4zVDGgO3cCQ"
      }
    },
    {
      "cell_type": "markdown",
      "source": [
        "### Working Area"
      ],
      "metadata": {
        "id": "__d0eH6i3y3o"
      }
    },
    {
      "cell_type": "markdown",
      "source": [
        "- Connect to BigQuery"
      ],
      "metadata": {
        "id": "pnpIVovdJfuB"
      }
    },
    {
      "cell_type": "code",
      "source": [
        "from google.colab import auth\n",
        "from google.cloud import bigquery\n",
        "auth.authenticate_user()\n",
        "print('Authenticated')\n",
        "\n",
        "project_id = 'halo-project-358808'\n",
        "client = bigquery.Client(project=project_id)"
      ],
      "metadata": {
        "colab": {
          "base_uri": "https://localhost:8080/"
        },
        "id": "KJaDBEfz37ba",
        "outputId": "13e2ad5c-3785-4030-c4c7-38d2485918cc"
      },
      "execution_count": 351,
      "outputs": [
        {
          "output_type": "stream",
          "name": "stdout",
          "text": [
            "Authenticated\n"
          ]
        }
      ]
    },
    {
      "cell_type": "markdown",
      "source": [
        "- Import Library"
      ],
      "metadata": {
        "id": "zoHX7rfMN62W"
      }
    },
    {
      "cell_type": "code",
      "source": [
        "import pandas as pd\n",
        "from scipy import stats"
      ],
      "metadata": {
        "id": "yiH0TUA7MBKV"
      },
      "execution_count": 352,
      "outputs": []
    },
    {
      "cell_type": "markdown",
      "source": [
        "- Data Exploration"
      ],
      "metadata": {
        "id": "Gqty1hqz7h1o"
      }
    },
    {
      "cell_type": "markdown",
      "source": [
        "# 1"
      ],
      "metadata": {
        "id": "Nh2rMEOpNrGh"
      }
    },
    {
      "cell_type": "code",
      "source": [
        "retention = client.query('''\n",
        "SELECT (SELECT count(kategori) as loyal_customer from\n",
        "          (SELECT user_id as users, count(order_id) as total, \n",
        "          case when count(order_id)>=3 then 'loyal' else 'not loyal' end AS Kategori\n",
        "          FROM `bigquery-public-data.thelook_ecommerce.order_items`\n",
        "          WHERE created_at>=\"2022-01-01\" and created_at<=\"2022-06-30\"\n",
        "          GROUP BY(user_id) \n",
        "          HAVING kategori='loyal'))/(SELECT count(kategori) as loyal_customer from\n",
        "          (SELECT user_id as users, count(order_id) as total, \n",
        "          case when count(order_id)>=3 then 'loyal' else 'not loyal' end AS Kategori\n",
        "          FROM `bigquery-public-data.thelook_ecommerce.order_items`\n",
        "          WHERE created_at>=\"2022-01-01\" and created_at<=\"2022-06-30\"\n",
        "          GROUP BY user_id)) * 100 AS loyal_percentage\n",
        "''').to_dataframe()\n",
        "retention"
      ],
      "metadata": {
        "colab": {
          "base_uri": "https://localhost:8080/",
          "height": 81
        },
        "id": "hkbh_G1rOs4h",
        "outputId": "bb78fb09-9f1d-473a-f9da-7689e611f67f"
      },
      "execution_count": 353,
      "outputs": [
        {
          "output_type": "execute_result",
          "data": {
            "text/plain": [
              "   loyal_percentage\n",
              "0         19.225251"
            ],
            "text/html": [
              "\n",
              "  <div id=\"df-50863f50-4042-4aa7-b8f6-e9dec3498c27\">\n",
              "    <div class=\"colab-df-container\">\n",
              "      <div>\n",
              "<style scoped>\n",
              "    .dataframe tbody tr th:only-of-type {\n",
              "        vertical-align: middle;\n",
              "    }\n",
              "\n",
              "    .dataframe tbody tr th {\n",
              "        vertical-align: top;\n",
              "    }\n",
              "\n",
              "    .dataframe thead th {\n",
              "        text-align: right;\n",
              "    }\n",
              "</style>\n",
              "<table border=\"1\" class=\"dataframe\">\n",
              "  <thead>\n",
              "    <tr style=\"text-align: right;\">\n",
              "      <th></th>\n",
              "      <th>loyal_percentage</th>\n",
              "    </tr>\n",
              "  </thead>\n",
              "  <tbody>\n",
              "    <tr>\n",
              "      <th>0</th>\n",
              "      <td>19.225251</td>\n",
              "    </tr>\n",
              "  </tbody>\n",
              "</table>\n",
              "</div>\n",
              "      <button class=\"colab-df-convert\" onclick=\"convertToInteractive('df-50863f50-4042-4aa7-b8f6-e9dec3498c27')\"\n",
              "              title=\"Convert this dataframe to an interactive table.\"\n",
              "              style=\"display:none;\">\n",
              "        \n",
              "  <svg xmlns=\"http://www.w3.org/2000/svg\" height=\"24px\"viewBox=\"0 0 24 24\"\n",
              "       width=\"24px\">\n",
              "    <path d=\"M0 0h24v24H0V0z\" fill=\"none\"/>\n",
              "    <path d=\"M18.56 5.44l.94 2.06.94-2.06 2.06-.94-2.06-.94-.94-2.06-.94 2.06-2.06.94zm-11 1L8.5 8.5l.94-2.06 2.06-.94-2.06-.94L8.5 2.5l-.94 2.06-2.06.94zm10 10l.94 2.06.94-2.06 2.06-.94-2.06-.94-.94-2.06-.94 2.06-2.06.94z\"/><path d=\"M17.41 7.96l-1.37-1.37c-.4-.4-.92-.59-1.43-.59-.52 0-1.04.2-1.43.59L10.3 9.45l-7.72 7.72c-.78.78-.78 2.05 0 2.83L4 21.41c.39.39.9.59 1.41.59.51 0 1.02-.2 1.41-.59l7.78-7.78 2.81-2.81c.8-.78.8-2.07 0-2.86zM5.41 20L4 18.59l7.72-7.72 1.47 1.35L5.41 20z\"/>\n",
              "  </svg>\n",
              "      </button>\n",
              "      \n",
              "  <style>\n",
              "    .colab-df-container {\n",
              "      display:flex;\n",
              "      flex-wrap:wrap;\n",
              "      gap: 12px;\n",
              "    }\n",
              "\n",
              "    .colab-df-convert {\n",
              "      background-color: #E8F0FE;\n",
              "      border: none;\n",
              "      border-radius: 50%;\n",
              "      cursor: pointer;\n",
              "      display: none;\n",
              "      fill: #1967D2;\n",
              "      height: 32px;\n",
              "      padding: 0 0 0 0;\n",
              "      width: 32px;\n",
              "    }\n",
              "\n",
              "    .colab-df-convert:hover {\n",
              "      background-color: #E2EBFA;\n",
              "      box-shadow: 0px 1px 2px rgba(60, 64, 67, 0.3), 0px 1px 3px 1px rgba(60, 64, 67, 0.15);\n",
              "      fill: #174EA6;\n",
              "    }\n",
              "\n",
              "    [theme=dark] .colab-df-convert {\n",
              "      background-color: #3B4455;\n",
              "      fill: #D2E3FC;\n",
              "    }\n",
              "\n",
              "    [theme=dark] .colab-df-convert:hover {\n",
              "      background-color: #434B5C;\n",
              "      box-shadow: 0px 1px 3px 1px rgba(0, 0, 0, 0.15);\n",
              "      filter: drop-shadow(0px 1px 2px rgba(0, 0, 0, 0.3));\n",
              "      fill: #FFFFFF;\n",
              "    }\n",
              "  </style>\n",
              "\n",
              "      <script>\n",
              "        const buttonEl =\n",
              "          document.querySelector('#df-50863f50-4042-4aa7-b8f6-e9dec3498c27 button.colab-df-convert');\n",
              "        buttonEl.style.display =\n",
              "          google.colab.kernel.accessAllowed ? 'block' : 'none';\n",
              "\n",
              "        async function convertToInteractive(key) {\n",
              "          const element = document.querySelector('#df-50863f50-4042-4aa7-b8f6-e9dec3498c27');\n",
              "          const dataTable =\n",
              "            await google.colab.kernel.invokeFunction('convertToInteractive',\n",
              "                                                     [key], {});\n",
              "          if (!dataTable) return;\n",
              "\n",
              "          const docLinkHtml = 'Like what you see? Visit the ' +\n",
              "            '<a target=\"_blank\" href=https://colab.research.google.com/notebooks/data_table.ipynb>data table notebook</a>'\n",
              "            + ' to learn more about interactive tables.';\n",
              "          element.innerHTML = '';\n",
              "          dataTable['output_type'] = 'display_data';\n",
              "          await google.colab.output.renderOutput(dataTable, element);\n",
              "          const docLink = document.createElement('div');\n",
              "          docLink.innerHTML = docLinkHtml;\n",
              "          element.appendChild(docLink);\n",
              "        }\n",
              "      </script>\n",
              "    </div>\n",
              "  </div>\n",
              "  "
            ]
          },
          "metadata": {},
          "execution_count": 353
        }
      ]
    },
    {
      "cell_type": "markdown",
      "source": [
        "Setelah dilakukan penarikan data dari tabel orders di database The Look Ecommerce, untuk mengklasifikasikan user loyal, yang di tentukan berdasarkan transaksi yang dilakukan minimal 3 kali oleh users. Setelah di hitung persentase dengan rumus \"user loyal / keseluruhan user x 100\" didapatkan hasil persentase dari user loyal sejumlah 19.225251 selama periode dari Januari - Juni 2022 dari total keseluruhan user yang ada. Bisa disimpulkan user loyal sangatlah sedikit dari keseluruhan total user yang ada, hanya sekitar 19 persen user yang melakukan transaksi lebih dari 3 kali di platform The look Ecommerce. Hal ini bisa ditinjau lagi, apakah sedikitnya jumlah user yang melakukan transaksi disebabkan oleh harga yang terlalu mahal dibanding platform lain atau bisa disebabkan barang yang di jual kurang menarik untuk pembeli di negara tertentu.(Data di analisis pada tanggal 28 Agustus 2022)"
      ],
      "metadata": {
        "id": "CVy7hqjSxiGZ"
      }
    },
    {
      "cell_type": "markdown",
      "source": [
        "# 2"
      ],
      "metadata": {
        "id": "tH_0dKMQNt0Z"
      }
    },
    {
      "cell_type": "code",
      "source": [
        "ct_loyal = client.query('''\n",
        "SELECT AVG(total) as rata_rata, min(total) as minimal, max(total) as maximal \n",
        "from (SELECT user_id as users, count(order_id) as total,\n",
        "  case when count(order_id)>=3 then 'loyal' else 'not loyal' end AS Kategori\n",
        "  FROM `bigquery-public-data.thelook_ecommerce.order_items`\n",
        "  WHERE created_at>=\"2022-01-01\" and created_at<=\"2022-06-30\"\n",
        "  GROUP BY user_id\n",
        "  HAVING kategori='loyal')\n",
        "''').to_dataframe()\n",
        "ct_loyal"
      ],
      "metadata": {
        "colab": {
          "base_uri": "https://localhost:8080/",
          "height": 81
        },
        "id": "Uzjy25bIlZ5n",
        "outputId": "02605232-889c-4e56-f6fb-9ec6e479b728"
      },
      "execution_count": 354,
      "outputs": [
        {
          "output_type": "execute_result",
          "data": {
            "text/plain": [
              "   rata_rata  minimal  maximal\n",
              "0   3.791723        3       11"
            ],
            "text/html": [
              "\n",
              "  <div id=\"df-35dc9a56-a38b-4eb3-814e-42cf0784451e\">\n",
              "    <div class=\"colab-df-container\">\n",
              "      <div>\n",
              "<style scoped>\n",
              "    .dataframe tbody tr th:only-of-type {\n",
              "        vertical-align: middle;\n",
              "    }\n",
              "\n",
              "    .dataframe tbody tr th {\n",
              "        vertical-align: top;\n",
              "    }\n",
              "\n",
              "    .dataframe thead th {\n",
              "        text-align: right;\n",
              "    }\n",
              "</style>\n",
              "<table border=\"1\" class=\"dataframe\">\n",
              "  <thead>\n",
              "    <tr style=\"text-align: right;\">\n",
              "      <th></th>\n",
              "      <th>rata_rata</th>\n",
              "      <th>minimal</th>\n",
              "      <th>maximal</th>\n",
              "    </tr>\n",
              "  </thead>\n",
              "  <tbody>\n",
              "    <tr>\n",
              "      <th>0</th>\n",
              "      <td>3.791723</td>\n",
              "      <td>3</td>\n",
              "      <td>11</td>\n",
              "    </tr>\n",
              "  </tbody>\n",
              "</table>\n",
              "</div>\n",
              "      <button class=\"colab-df-convert\" onclick=\"convertToInteractive('df-35dc9a56-a38b-4eb3-814e-42cf0784451e')\"\n",
              "              title=\"Convert this dataframe to an interactive table.\"\n",
              "              style=\"display:none;\">\n",
              "        \n",
              "  <svg xmlns=\"http://www.w3.org/2000/svg\" height=\"24px\"viewBox=\"0 0 24 24\"\n",
              "       width=\"24px\">\n",
              "    <path d=\"M0 0h24v24H0V0z\" fill=\"none\"/>\n",
              "    <path d=\"M18.56 5.44l.94 2.06.94-2.06 2.06-.94-2.06-.94-.94-2.06-.94 2.06-2.06.94zm-11 1L8.5 8.5l.94-2.06 2.06-.94-2.06-.94L8.5 2.5l-.94 2.06-2.06.94zm10 10l.94 2.06.94-2.06 2.06-.94-2.06-.94-.94-2.06-.94 2.06-2.06.94z\"/><path d=\"M17.41 7.96l-1.37-1.37c-.4-.4-.92-.59-1.43-.59-.52 0-1.04.2-1.43.59L10.3 9.45l-7.72 7.72c-.78.78-.78 2.05 0 2.83L4 21.41c.39.39.9.59 1.41.59.51 0 1.02-.2 1.41-.59l7.78-7.78 2.81-2.81c.8-.78.8-2.07 0-2.86zM5.41 20L4 18.59l7.72-7.72 1.47 1.35L5.41 20z\"/>\n",
              "  </svg>\n",
              "      </button>\n",
              "      \n",
              "  <style>\n",
              "    .colab-df-container {\n",
              "      display:flex;\n",
              "      flex-wrap:wrap;\n",
              "      gap: 12px;\n",
              "    }\n",
              "\n",
              "    .colab-df-convert {\n",
              "      background-color: #E8F0FE;\n",
              "      border: none;\n",
              "      border-radius: 50%;\n",
              "      cursor: pointer;\n",
              "      display: none;\n",
              "      fill: #1967D2;\n",
              "      height: 32px;\n",
              "      padding: 0 0 0 0;\n",
              "      width: 32px;\n",
              "    }\n",
              "\n",
              "    .colab-df-convert:hover {\n",
              "      background-color: #E2EBFA;\n",
              "      box-shadow: 0px 1px 2px rgba(60, 64, 67, 0.3), 0px 1px 3px 1px rgba(60, 64, 67, 0.15);\n",
              "      fill: #174EA6;\n",
              "    }\n",
              "\n",
              "    [theme=dark] .colab-df-convert {\n",
              "      background-color: #3B4455;\n",
              "      fill: #D2E3FC;\n",
              "    }\n",
              "\n",
              "    [theme=dark] .colab-df-convert:hover {\n",
              "      background-color: #434B5C;\n",
              "      box-shadow: 0px 1px 3px 1px rgba(0, 0, 0, 0.15);\n",
              "      filter: drop-shadow(0px 1px 2px rgba(0, 0, 0, 0.3));\n",
              "      fill: #FFFFFF;\n",
              "    }\n",
              "  </style>\n",
              "\n",
              "      <script>\n",
              "        const buttonEl =\n",
              "          document.querySelector('#df-35dc9a56-a38b-4eb3-814e-42cf0784451e button.colab-df-convert');\n",
              "        buttonEl.style.display =\n",
              "          google.colab.kernel.accessAllowed ? 'block' : 'none';\n",
              "\n",
              "        async function convertToInteractive(key) {\n",
              "          const element = document.querySelector('#df-35dc9a56-a38b-4eb3-814e-42cf0784451e');\n",
              "          const dataTable =\n",
              "            await google.colab.kernel.invokeFunction('convertToInteractive',\n",
              "                                                     [key], {});\n",
              "          if (!dataTable) return;\n",
              "\n",
              "          const docLinkHtml = 'Like what you see? Visit the ' +\n",
              "            '<a target=\"_blank\" href=https://colab.research.google.com/notebooks/data_table.ipynb>data table notebook</a>'\n",
              "            + ' to learn more about interactive tables.';\n",
              "          element.innerHTML = '';\n",
              "          dataTable['output_type'] = 'display_data';\n",
              "          await google.colab.output.renderOutput(dataTable, element);\n",
              "          const docLink = document.createElement('div');\n",
              "          docLink.innerHTML = docLinkHtml;\n",
              "          element.appendChild(docLink);\n",
              "        }\n",
              "      </script>\n",
              "    </div>\n",
              "  </div>\n",
              "  "
            ]
          },
          "metadata": {},
          "execution_count": 354
        }
      ]
    },
    {
      "cell_type": "markdown",
      "source": [
        "Rata-rata transaksi yang dilakukan oleh user loyal sebanyak 3.791723 kali dari keseluruhan user loyal yang ada. Minimal transaksi yang dilakukan user loyal sebanyak 3 transaksi dan maksimal transasksi yang pernah dilakukan user sebanyak 11. (Data di analisis pada tanggal 28 Agustus 2022)"
      ],
      "metadata": {
        "id": "PM566A9l3QzX"
      }
    },
    {
      "cell_type": "markdown",
      "source": [
        "# 3"
      ],
      "metadata": {
        "id": "h5ezH3Y1NwRb"
      }
    },
    {
      "cell_type": "code",
      "source": [
        "ct_money_loyal = client.query('''\n",
        "SELECT AVG(price) AS rata_rata_spend_uang, \n",
        "min(price) AS minimal_spend_uang, \n",
        "max(price) AS maksimal_spend_uang FROM\n",
        "  (SELECT user_id as users, count(order_id) as total, sum(sale_price) as price,\n",
        "    case when count(order_id)>=3 then 'loyal' else 'not loyal' end AS Kategori\n",
        "    FROM `bigquery-public-data.thelook_ecommerce.order_items`\n",
        "    WHERE created_at>=\"2022-01-01\" and created_at<=\"2022-06-30\" \n",
        "    and status!='Cancelled' and status!='Returned'\n",
        "    GROUP BY user_id\n",
        "    HAVING kategori='loyal')\n",
        "''').to_dataframe()\n",
        "ct_money_loyal"
      ],
      "metadata": {
        "id": "zKrtdmjsoFmC",
        "colab": {
          "base_uri": "https://localhost:8080/",
          "height": 81
        },
        "outputId": "11b7604f-bf80-4b8f-97e3-ad62dcc576db"
      },
      "execution_count": 355,
      "outputs": [
        {
          "output_type": "execute_result",
          "data": {
            "text/plain": [
              "   rata_rata_spend_uang  minimal_spend_uang  maksimal_spend_uang\n",
              "0            218.646915               24.21          1380.720001"
            ],
            "text/html": [
              "\n",
              "  <div id=\"df-14e43634-5063-40ba-a930-22ecd661f64f\">\n",
              "    <div class=\"colab-df-container\">\n",
              "      <div>\n",
              "<style scoped>\n",
              "    .dataframe tbody tr th:only-of-type {\n",
              "        vertical-align: middle;\n",
              "    }\n",
              "\n",
              "    .dataframe tbody tr th {\n",
              "        vertical-align: top;\n",
              "    }\n",
              "\n",
              "    .dataframe thead th {\n",
              "        text-align: right;\n",
              "    }\n",
              "</style>\n",
              "<table border=\"1\" class=\"dataframe\">\n",
              "  <thead>\n",
              "    <tr style=\"text-align: right;\">\n",
              "      <th></th>\n",
              "      <th>rata_rata_spend_uang</th>\n",
              "      <th>minimal_spend_uang</th>\n",
              "      <th>maksimal_spend_uang</th>\n",
              "    </tr>\n",
              "  </thead>\n",
              "  <tbody>\n",
              "    <tr>\n",
              "      <th>0</th>\n",
              "      <td>218.646915</td>\n",
              "      <td>24.21</td>\n",
              "      <td>1380.720001</td>\n",
              "    </tr>\n",
              "  </tbody>\n",
              "</table>\n",
              "</div>\n",
              "      <button class=\"colab-df-convert\" onclick=\"convertToInteractive('df-14e43634-5063-40ba-a930-22ecd661f64f')\"\n",
              "              title=\"Convert this dataframe to an interactive table.\"\n",
              "              style=\"display:none;\">\n",
              "        \n",
              "  <svg xmlns=\"http://www.w3.org/2000/svg\" height=\"24px\"viewBox=\"0 0 24 24\"\n",
              "       width=\"24px\">\n",
              "    <path d=\"M0 0h24v24H0V0z\" fill=\"none\"/>\n",
              "    <path d=\"M18.56 5.44l.94 2.06.94-2.06 2.06-.94-2.06-.94-.94-2.06-.94 2.06-2.06.94zm-11 1L8.5 8.5l.94-2.06 2.06-.94-2.06-.94L8.5 2.5l-.94 2.06-2.06.94zm10 10l.94 2.06.94-2.06 2.06-.94-2.06-.94-.94-2.06-.94 2.06-2.06.94z\"/><path d=\"M17.41 7.96l-1.37-1.37c-.4-.4-.92-.59-1.43-.59-.52 0-1.04.2-1.43.59L10.3 9.45l-7.72 7.72c-.78.78-.78 2.05 0 2.83L4 21.41c.39.39.9.59 1.41.59.51 0 1.02-.2 1.41-.59l7.78-7.78 2.81-2.81c.8-.78.8-2.07 0-2.86zM5.41 20L4 18.59l7.72-7.72 1.47 1.35L5.41 20z\"/>\n",
              "  </svg>\n",
              "      </button>\n",
              "      \n",
              "  <style>\n",
              "    .colab-df-container {\n",
              "      display:flex;\n",
              "      flex-wrap:wrap;\n",
              "      gap: 12px;\n",
              "    }\n",
              "\n",
              "    .colab-df-convert {\n",
              "      background-color: #E8F0FE;\n",
              "      border: none;\n",
              "      border-radius: 50%;\n",
              "      cursor: pointer;\n",
              "      display: none;\n",
              "      fill: #1967D2;\n",
              "      height: 32px;\n",
              "      padding: 0 0 0 0;\n",
              "      width: 32px;\n",
              "    }\n",
              "\n",
              "    .colab-df-convert:hover {\n",
              "      background-color: #E2EBFA;\n",
              "      box-shadow: 0px 1px 2px rgba(60, 64, 67, 0.3), 0px 1px 3px 1px rgba(60, 64, 67, 0.15);\n",
              "      fill: #174EA6;\n",
              "    }\n",
              "\n",
              "    [theme=dark] .colab-df-convert {\n",
              "      background-color: #3B4455;\n",
              "      fill: #D2E3FC;\n",
              "    }\n",
              "\n",
              "    [theme=dark] .colab-df-convert:hover {\n",
              "      background-color: #434B5C;\n",
              "      box-shadow: 0px 1px 3px 1px rgba(0, 0, 0, 0.15);\n",
              "      filter: drop-shadow(0px 1px 2px rgba(0, 0, 0, 0.3));\n",
              "      fill: #FFFFFF;\n",
              "    }\n",
              "  </style>\n",
              "\n",
              "      <script>\n",
              "        const buttonEl =\n",
              "          document.querySelector('#df-14e43634-5063-40ba-a930-22ecd661f64f button.colab-df-convert');\n",
              "        buttonEl.style.display =\n",
              "          google.colab.kernel.accessAllowed ? 'block' : 'none';\n",
              "\n",
              "        async function convertToInteractive(key) {\n",
              "          const element = document.querySelector('#df-14e43634-5063-40ba-a930-22ecd661f64f');\n",
              "          const dataTable =\n",
              "            await google.colab.kernel.invokeFunction('convertToInteractive',\n",
              "                                                     [key], {});\n",
              "          if (!dataTable) return;\n",
              "\n",
              "          const docLinkHtml = 'Like what you see? Visit the ' +\n",
              "            '<a target=\"_blank\" href=https://colab.research.google.com/notebooks/data_table.ipynb>data table notebook</a>'\n",
              "            + ' to learn more about interactive tables.';\n",
              "          element.innerHTML = '';\n",
              "          dataTable['output_type'] = 'display_data';\n",
              "          await google.colab.output.renderOutput(dataTable, element);\n",
              "          const docLink = document.createElement('div');\n",
              "          docLink.innerHTML = docLinkHtml;\n",
              "          element.appendChild(docLink);\n",
              "        }\n",
              "      </script>\n",
              "    </div>\n",
              "  </div>\n",
              "  "
            ]
          },
          "metadata": {},
          "execution_count": 355
        }
      ]
    },
    {
      "cell_type": "markdown",
      "source": [
        "Setelah melakukan perhitungan rata-rata, minimal dan maksimal pada data user loyal. Kita dapatkan bahwa user loyal rata-rata menghabiskan uang sejumlah 218.646915 dollar, untuk minimal uang yang dihabiskan dari user loyal berjumlah 24.21 dollar dan uang maksimal atau terbanyak yang pernah dihabiskan user loyal sejumlah 1380.720001 dollar. Hasil dari perhitungan tidak termasuk transaksi yang Cancelled ataupun barang yang Returned. (Data di analisis pada tanggal 28 Agustus 2022)"
      ],
      "metadata": {
        "id": "uesWITo5Y03q"
      }
    },
    {
      "cell_type": "markdown",
      "source": [
        "# 4"
      ],
      "metadata": {
        "id": "vdVX3YkjNzYh"
      }
    },
    {
      "cell_type": "code",
      "source": [
        "traffic_loyal = client.query('''\n",
        "SELECT traffic_sources,count(users) AS users_loyal FROM\n",
        "(SELECT u.traffic_source AS traffic_sources, oi.user_id AS users,\n",
        "    case when count(oi.order_id)>=3 then 'loyal' else 'not loyal' end AS Kategori\n",
        "    FROM `bigquery-public-data.thelook_ecommerce.order_items` AS oi\n",
        "    LEFT JOIN `bigquery-public-data.thelook_ecommerce.users` AS u\n",
        "    ON oi.user_id = u.id\n",
        "    WHERE oi.created_at>=\"2022-01-01\" and oi.created_at<=\"2022-06-30\"\n",
        "    GROUP BY u.traffic_source, oi.user_id\n",
        "    HAVING kategori='loyal') GROUP BY traffic_sources\n",
        "''').to_dataframe()\n",
        "traffic_loyal"
      ],
      "metadata": {
        "colab": {
          "base_uri": "https://localhost:8080/",
          "height": 206
        },
        "id": "Re1yYVSsItem",
        "outputId": "b6cd820f-0cd9-4e08-a9ef-f5a6365d1463"
      },
      "execution_count": 356,
      "outputs": [
        {
          "output_type": "execute_result",
          "data": {
            "text/plain": [
              "  traffic_sources  users_loyal\n",
              "0          Search         4206\n",
              "1         Display          223\n",
              "2         Organic          865\n",
              "3           Email          263\n",
              "4        Facebook          339"
            ],
            "text/html": [
              "\n",
              "  <div id=\"df-42055857-de74-4cc8-8eee-ef05556d7c63\">\n",
              "    <div class=\"colab-df-container\">\n",
              "      <div>\n",
              "<style scoped>\n",
              "    .dataframe tbody tr th:only-of-type {\n",
              "        vertical-align: middle;\n",
              "    }\n",
              "\n",
              "    .dataframe tbody tr th {\n",
              "        vertical-align: top;\n",
              "    }\n",
              "\n",
              "    .dataframe thead th {\n",
              "        text-align: right;\n",
              "    }\n",
              "</style>\n",
              "<table border=\"1\" class=\"dataframe\">\n",
              "  <thead>\n",
              "    <tr style=\"text-align: right;\">\n",
              "      <th></th>\n",
              "      <th>traffic_sources</th>\n",
              "      <th>users_loyal</th>\n",
              "    </tr>\n",
              "  </thead>\n",
              "  <tbody>\n",
              "    <tr>\n",
              "      <th>0</th>\n",
              "      <td>Search</td>\n",
              "      <td>4206</td>\n",
              "    </tr>\n",
              "    <tr>\n",
              "      <th>1</th>\n",
              "      <td>Display</td>\n",
              "      <td>223</td>\n",
              "    </tr>\n",
              "    <tr>\n",
              "      <th>2</th>\n",
              "      <td>Organic</td>\n",
              "      <td>865</td>\n",
              "    </tr>\n",
              "    <tr>\n",
              "      <th>3</th>\n",
              "      <td>Email</td>\n",
              "      <td>263</td>\n",
              "    </tr>\n",
              "    <tr>\n",
              "      <th>4</th>\n",
              "      <td>Facebook</td>\n",
              "      <td>339</td>\n",
              "    </tr>\n",
              "  </tbody>\n",
              "</table>\n",
              "</div>\n",
              "      <button class=\"colab-df-convert\" onclick=\"convertToInteractive('df-42055857-de74-4cc8-8eee-ef05556d7c63')\"\n",
              "              title=\"Convert this dataframe to an interactive table.\"\n",
              "              style=\"display:none;\">\n",
              "        \n",
              "  <svg xmlns=\"http://www.w3.org/2000/svg\" height=\"24px\"viewBox=\"0 0 24 24\"\n",
              "       width=\"24px\">\n",
              "    <path d=\"M0 0h24v24H0V0z\" fill=\"none\"/>\n",
              "    <path d=\"M18.56 5.44l.94 2.06.94-2.06 2.06-.94-2.06-.94-.94-2.06-.94 2.06-2.06.94zm-11 1L8.5 8.5l.94-2.06 2.06-.94-2.06-.94L8.5 2.5l-.94 2.06-2.06.94zm10 10l.94 2.06.94-2.06 2.06-.94-2.06-.94-.94-2.06-.94 2.06-2.06.94z\"/><path d=\"M17.41 7.96l-1.37-1.37c-.4-.4-.92-.59-1.43-.59-.52 0-1.04.2-1.43.59L10.3 9.45l-7.72 7.72c-.78.78-.78 2.05 0 2.83L4 21.41c.39.39.9.59 1.41.59.51 0 1.02-.2 1.41-.59l7.78-7.78 2.81-2.81c.8-.78.8-2.07 0-2.86zM5.41 20L4 18.59l7.72-7.72 1.47 1.35L5.41 20z\"/>\n",
              "  </svg>\n",
              "      </button>\n",
              "      \n",
              "  <style>\n",
              "    .colab-df-container {\n",
              "      display:flex;\n",
              "      flex-wrap:wrap;\n",
              "      gap: 12px;\n",
              "    }\n",
              "\n",
              "    .colab-df-convert {\n",
              "      background-color: #E8F0FE;\n",
              "      border: none;\n",
              "      border-radius: 50%;\n",
              "      cursor: pointer;\n",
              "      display: none;\n",
              "      fill: #1967D2;\n",
              "      height: 32px;\n",
              "      padding: 0 0 0 0;\n",
              "      width: 32px;\n",
              "    }\n",
              "\n",
              "    .colab-df-convert:hover {\n",
              "      background-color: #E2EBFA;\n",
              "      box-shadow: 0px 1px 2px rgba(60, 64, 67, 0.3), 0px 1px 3px 1px rgba(60, 64, 67, 0.15);\n",
              "      fill: #174EA6;\n",
              "    }\n",
              "\n",
              "    [theme=dark] .colab-df-convert {\n",
              "      background-color: #3B4455;\n",
              "      fill: #D2E3FC;\n",
              "    }\n",
              "\n",
              "    [theme=dark] .colab-df-convert:hover {\n",
              "      background-color: #434B5C;\n",
              "      box-shadow: 0px 1px 3px 1px rgba(0, 0, 0, 0.15);\n",
              "      filter: drop-shadow(0px 1px 2px rgba(0, 0, 0, 0.3));\n",
              "      fill: #FFFFFF;\n",
              "    }\n",
              "  </style>\n",
              "\n",
              "      <script>\n",
              "        const buttonEl =\n",
              "          document.querySelector('#df-42055857-de74-4cc8-8eee-ef05556d7c63 button.colab-df-convert');\n",
              "        buttonEl.style.display =\n",
              "          google.colab.kernel.accessAllowed ? 'block' : 'none';\n",
              "\n",
              "        async function convertToInteractive(key) {\n",
              "          const element = document.querySelector('#df-42055857-de74-4cc8-8eee-ef05556d7c63');\n",
              "          const dataTable =\n",
              "            await google.colab.kernel.invokeFunction('convertToInteractive',\n",
              "                                                     [key], {});\n",
              "          if (!dataTable) return;\n",
              "\n",
              "          const docLinkHtml = 'Like what you see? Visit the ' +\n",
              "            '<a target=\"_blank\" href=https://colab.research.google.com/notebooks/data_table.ipynb>data table notebook</a>'\n",
              "            + ' to learn more about interactive tables.';\n",
              "          element.innerHTML = '';\n",
              "          dataTable['output_type'] = 'display_data';\n",
              "          await google.colab.output.renderOutput(dataTable, element);\n",
              "          const docLink = document.createElement('div');\n",
              "          docLink.innerHTML = docLinkHtml;\n",
              "          element.appendChild(docLink);\n",
              "        }\n",
              "      </script>\n",
              "    </div>\n",
              "  </div>\n",
              "  "
            ]
          },
          "metadata": {},
          "execution_count": 356
        }
      ]
    },
    {
      "cell_type": "markdown",
      "source": [
        "Setelah kita hitung jumlah user loyal berdasarkan jenis traffic source yang paling banyak digunakan yaitu:\n",
        "1. Search diakses sebanyak 4206\n",
        "2. Organic diakses sebanyak 865\n",
        "3. Facebook diakses sebanyak 339\n",
        "4. Email diakses sebanyak 263\n",
        "5. Display diakses sebanyak 223\n",
        "\n",
        "dapat disimpulkan bahwa traffic source dengan tipe Search merupakan yang terbanyak mendapatkan user loyal untuk mengakses platform The Look Ecommerce. Dengan informasi ini, pihak Marketing atau Digital Marketing bisa memaksimalkan pemasaran melalui 2 tipe traffic source yang paling banyak digunakan yaitu Search melalui iklan seperti Google Adwords dan Organic menggunakan SEO. Sehingga cost iklan bisa dialihkan ke traffic source yang sangat berpengaruh atau cost iklan bisa menjadi lebih murah dengan mengetahui traffic source yang memberikan hasil maksimal.(Data di analisis pada tanggal 28 Agustus 2022)"
      ],
      "metadata": {
        "id": "8yDyaakD4IMk"
      }
    },
    {
      "cell_type": "markdown",
      "source": [
        "# 5"
      ],
      "metadata": {
        "id": "QUlm_h0GN1Sz"
      }
    },
    {
      "cell_type": "code",
      "source": [
        "connection = client.query('''\n",
        "SELECT u.traffic_source AS Traffic_Sources,\n",
        "    case when count(oi.order_id)>=3 then 'Yes' else 'No' end AS Loyal\n",
        "    FROM `bigquery-public-data.thelook_ecommerce.order_items` AS oi\n",
        "    LEFT JOIN `bigquery-public-data.thelook_ecommerce.users` AS u\n",
        "    ON oi.user_id = u.id\n",
        "    WHERE oi.created_at>=\"2022-01-01\" and oi.created_at<=\"2022-06-30\"\n",
        "    GROUP BY u.traffic_source, oi.user_id\n",
        "''').to_dataframe()\n",
        "connection"
      ],
      "metadata": {
        "colab": {
          "base_uri": "https://localhost:8080/",
          "height": 424
        },
        "outputId": "18b4e01c-b738-4ea1-8781-a39248f19536",
        "id": "d64lT_XRl1pi"
      },
      "execution_count": 357,
      "outputs": [
        {
          "output_type": "execute_result",
          "data": {
            "text/plain": [
              "      Traffic_Sources Loyal\n",
              "0               Email    No\n",
              "1               Email    No\n",
              "2               Email    No\n",
              "3               Email    No\n",
              "4               Email    No\n",
              "...               ...   ...\n",
              "30663        Facebook    No\n",
              "30664        Facebook    No\n",
              "30665        Facebook    No\n",
              "30666        Facebook    No\n",
              "30667        Facebook    No\n",
              "\n",
              "[30668 rows x 2 columns]"
            ],
            "text/html": [
              "\n",
              "  <div id=\"df-86b1c795-297a-4e25-9041-383fd4f08847\">\n",
              "    <div class=\"colab-df-container\">\n",
              "      <div>\n",
              "<style scoped>\n",
              "    .dataframe tbody tr th:only-of-type {\n",
              "        vertical-align: middle;\n",
              "    }\n",
              "\n",
              "    .dataframe tbody tr th {\n",
              "        vertical-align: top;\n",
              "    }\n",
              "\n",
              "    .dataframe thead th {\n",
              "        text-align: right;\n",
              "    }\n",
              "</style>\n",
              "<table border=\"1\" class=\"dataframe\">\n",
              "  <thead>\n",
              "    <tr style=\"text-align: right;\">\n",
              "      <th></th>\n",
              "      <th>Traffic_Sources</th>\n",
              "      <th>Loyal</th>\n",
              "    </tr>\n",
              "  </thead>\n",
              "  <tbody>\n",
              "    <tr>\n",
              "      <th>0</th>\n",
              "      <td>Email</td>\n",
              "      <td>No</td>\n",
              "    </tr>\n",
              "    <tr>\n",
              "      <th>1</th>\n",
              "      <td>Email</td>\n",
              "      <td>No</td>\n",
              "    </tr>\n",
              "    <tr>\n",
              "      <th>2</th>\n",
              "      <td>Email</td>\n",
              "      <td>No</td>\n",
              "    </tr>\n",
              "    <tr>\n",
              "      <th>3</th>\n",
              "      <td>Email</td>\n",
              "      <td>No</td>\n",
              "    </tr>\n",
              "    <tr>\n",
              "      <th>4</th>\n",
              "      <td>Email</td>\n",
              "      <td>No</td>\n",
              "    </tr>\n",
              "    <tr>\n",
              "      <th>...</th>\n",
              "      <td>...</td>\n",
              "      <td>...</td>\n",
              "    </tr>\n",
              "    <tr>\n",
              "      <th>30663</th>\n",
              "      <td>Facebook</td>\n",
              "      <td>No</td>\n",
              "    </tr>\n",
              "    <tr>\n",
              "      <th>30664</th>\n",
              "      <td>Facebook</td>\n",
              "      <td>No</td>\n",
              "    </tr>\n",
              "    <tr>\n",
              "      <th>30665</th>\n",
              "      <td>Facebook</td>\n",
              "      <td>No</td>\n",
              "    </tr>\n",
              "    <tr>\n",
              "      <th>30666</th>\n",
              "      <td>Facebook</td>\n",
              "      <td>No</td>\n",
              "    </tr>\n",
              "    <tr>\n",
              "      <th>30667</th>\n",
              "      <td>Facebook</td>\n",
              "      <td>No</td>\n",
              "    </tr>\n",
              "  </tbody>\n",
              "</table>\n",
              "<p>30668 rows × 2 columns</p>\n",
              "</div>\n",
              "      <button class=\"colab-df-convert\" onclick=\"convertToInteractive('df-86b1c795-297a-4e25-9041-383fd4f08847')\"\n",
              "              title=\"Convert this dataframe to an interactive table.\"\n",
              "              style=\"display:none;\">\n",
              "        \n",
              "  <svg xmlns=\"http://www.w3.org/2000/svg\" height=\"24px\"viewBox=\"0 0 24 24\"\n",
              "       width=\"24px\">\n",
              "    <path d=\"M0 0h24v24H0V0z\" fill=\"none\"/>\n",
              "    <path d=\"M18.56 5.44l.94 2.06.94-2.06 2.06-.94-2.06-.94-.94-2.06-.94 2.06-2.06.94zm-11 1L8.5 8.5l.94-2.06 2.06-.94-2.06-.94L8.5 2.5l-.94 2.06-2.06.94zm10 10l.94 2.06.94-2.06 2.06-.94-2.06-.94-.94-2.06-.94 2.06-2.06.94z\"/><path d=\"M17.41 7.96l-1.37-1.37c-.4-.4-.92-.59-1.43-.59-.52 0-1.04.2-1.43.59L10.3 9.45l-7.72 7.72c-.78.78-.78 2.05 0 2.83L4 21.41c.39.39.9.59 1.41.59.51 0 1.02-.2 1.41-.59l7.78-7.78 2.81-2.81c.8-.78.8-2.07 0-2.86zM5.41 20L4 18.59l7.72-7.72 1.47 1.35L5.41 20z\"/>\n",
              "  </svg>\n",
              "      </button>\n",
              "      \n",
              "  <style>\n",
              "    .colab-df-container {\n",
              "      display:flex;\n",
              "      flex-wrap:wrap;\n",
              "      gap: 12px;\n",
              "    }\n",
              "\n",
              "    .colab-df-convert {\n",
              "      background-color: #E8F0FE;\n",
              "      border: none;\n",
              "      border-radius: 50%;\n",
              "      cursor: pointer;\n",
              "      display: none;\n",
              "      fill: #1967D2;\n",
              "      height: 32px;\n",
              "      padding: 0 0 0 0;\n",
              "      width: 32px;\n",
              "    }\n",
              "\n",
              "    .colab-df-convert:hover {\n",
              "      background-color: #E2EBFA;\n",
              "      box-shadow: 0px 1px 2px rgba(60, 64, 67, 0.3), 0px 1px 3px 1px rgba(60, 64, 67, 0.15);\n",
              "      fill: #174EA6;\n",
              "    }\n",
              "\n",
              "    [theme=dark] .colab-df-convert {\n",
              "      background-color: #3B4455;\n",
              "      fill: #D2E3FC;\n",
              "    }\n",
              "\n",
              "    [theme=dark] .colab-df-convert:hover {\n",
              "      background-color: #434B5C;\n",
              "      box-shadow: 0px 1px 3px 1px rgba(0, 0, 0, 0.15);\n",
              "      filter: drop-shadow(0px 1px 2px rgba(0, 0, 0, 0.3));\n",
              "      fill: #FFFFFF;\n",
              "    }\n",
              "  </style>\n",
              "\n",
              "      <script>\n",
              "        const buttonEl =\n",
              "          document.querySelector('#df-86b1c795-297a-4e25-9041-383fd4f08847 button.colab-df-convert');\n",
              "        buttonEl.style.display =\n",
              "          google.colab.kernel.accessAllowed ? 'block' : 'none';\n",
              "\n",
              "        async function convertToInteractive(key) {\n",
              "          const element = document.querySelector('#df-86b1c795-297a-4e25-9041-383fd4f08847');\n",
              "          const dataTable =\n",
              "            await google.colab.kernel.invokeFunction('convertToInteractive',\n",
              "                                                     [key], {});\n",
              "          if (!dataTable) return;\n",
              "\n",
              "          const docLinkHtml = 'Like what you see? Visit the ' +\n",
              "            '<a target=\"_blank\" href=https://colab.research.google.com/notebooks/data_table.ipynb>data table notebook</a>'\n",
              "            + ' to learn more about interactive tables.';\n",
              "          element.innerHTML = '';\n",
              "          dataTable['output_type'] = 'display_data';\n",
              "          await google.colab.output.renderOutput(dataTable, element);\n",
              "          const docLink = document.createElement('div');\n",
              "          docLink.innerHTML = docLinkHtml;\n",
              "          element.appendChild(docLink);\n",
              "        }\n",
              "      </script>\n",
              "    </div>\n",
              "  </div>\n",
              "  "
            ]
          },
          "metadata": {},
          "execution_count": 357
        }
      ]
    },
    {
      "cell_type": "code",
      "source": [
        "chi_df=connection"
      ],
      "metadata": {
        "id": "pne0W5yHW3q7"
      },
      "execution_count": 358,
      "outputs": []
    },
    {
      "cell_type": "code",
      "source": [
        "contigency_table = pd.crosstab(chi_df['Traffic_Sources'],chi_df['Loyal'])\n",
        "contigency_table"
      ],
      "metadata": {
        "colab": {
          "base_uri": "https://localhost:8080/",
          "height": 237
        },
        "id": "hSdsGUkgEb12",
        "outputId": "d033203e-8b81-4ef1-a7b2-b816ad7ec0ec"
      },
      "execution_count": 359,
      "outputs": [
        {
          "output_type": "execute_result",
          "data": {
            "text/plain": [
              "Loyal               No   Yes\n",
              "Traffic_Sources             \n",
              "Display            984   223\n",
              "Email             1242   263\n",
              "Facebook          1532   339\n",
              "Organic           3779   865\n",
              "Search           17235  4206"
            ],
            "text/html": [
              "\n",
              "  <div id=\"df-2fe16a3d-9da4-414f-931f-d5b38a498145\">\n",
              "    <div class=\"colab-df-container\">\n",
              "      <div>\n",
              "<style scoped>\n",
              "    .dataframe tbody tr th:only-of-type {\n",
              "        vertical-align: middle;\n",
              "    }\n",
              "\n",
              "    .dataframe tbody tr th {\n",
              "        vertical-align: top;\n",
              "    }\n",
              "\n",
              "    .dataframe thead th {\n",
              "        text-align: right;\n",
              "    }\n",
              "</style>\n",
              "<table border=\"1\" class=\"dataframe\">\n",
              "  <thead>\n",
              "    <tr style=\"text-align: right;\">\n",
              "      <th>Loyal</th>\n",
              "      <th>No</th>\n",
              "      <th>Yes</th>\n",
              "    </tr>\n",
              "    <tr>\n",
              "      <th>Traffic_Sources</th>\n",
              "      <th></th>\n",
              "      <th></th>\n",
              "    </tr>\n",
              "  </thead>\n",
              "  <tbody>\n",
              "    <tr>\n",
              "      <th>Display</th>\n",
              "      <td>984</td>\n",
              "      <td>223</td>\n",
              "    </tr>\n",
              "    <tr>\n",
              "      <th>Email</th>\n",
              "      <td>1242</td>\n",
              "      <td>263</td>\n",
              "    </tr>\n",
              "    <tr>\n",
              "      <th>Facebook</th>\n",
              "      <td>1532</td>\n",
              "      <td>339</td>\n",
              "    </tr>\n",
              "    <tr>\n",
              "      <th>Organic</th>\n",
              "      <td>3779</td>\n",
              "      <td>865</td>\n",
              "    </tr>\n",
              "    <tr>\n",
              "      <th>Search</th>\n",
              "      <td>17235</td>\n",
              "      <td>4206</td>\n",
              "    </tr>\n",
              "  </tbody>\n",
              "</table>\n",
              "</div>\n",
              "      <button class=\"colab-df-convert\" onclick=\"convertToInteractive('df-2fe16a3d-9da4-414f-931f-d5b38a498145')\"\n",
              "              title=\"Convert this dataframe to an interactive table.\"\n",
              "              style=\"display:none;\">\n",
              "        \n",
              "  <svg xmlns=\"http://www.w3.org/2000/svg\" height=\"24px\"viewBox=\"0 0 24 24\"\n",
              "       width=\"24px\">\n",
              "    <path d=\"M0 0h24v24H0V0z\" fill=\"none\"/>\n",
              "    <path d=\"M18.56 5.44l.94 2.06.94-2.06 2.06-.94-2.06-.94-.94-2.06-.94 2.06-2.06.94zm-11 1L8.5 8.5l.94-2.06 2.06-.94-2.06-.94L8.5 2.5l-.94 2.06-2.06.94zm10 10l.94 2.06.94-2.06 2.06-.94-2.06-.94-.94-2.06-.94 2.06-2.06.94z\"/><path d=\"M17.41 7.96l-1.37-1.37c-.4-.4-.92-.59-1.43-.59-.52 0-1.04.2-1.43.59L10.3 9.45l-7.72 7.72c-.78.78-.78 2.05 0 2.83L4 21.41c.39.39.9.59 1.41.59.51 0 1.02-.2 1.41-.59l7.78-7.78 2.81-2.81c.8-.78.8-2.07 0-2.86zM5.41 20L4 18.59l7.72-7.72 1.47 1.35L5.41 20z\"/>\n",
              "  </svg>\n",
              "      </button>\n",
              "      \n",
              "  <style>\n",
              "    .colab-df-container {\n",
              "      display:flex;\n",
              "      flex-wrap:wrap;\n",
              "      gap: 12px;\n",
              "    }\n",
              "\n",
              "    .colab-df-convert {\n",
              "      background-color: #E8F0FE;\n",
              "      border: none;\n",
              "      border-radius: 50%;\n",
              "      cursor: pointer;\n",
              "      display: none;\n",
              "      fill: #1967D2;\n",
              "      height: 32px;\n",
              "      padding: 0 0 0 0;\n",
              "      width: 32px;\n",
              "    }\n",
              "\n",
              "    .colab-df-convert:hover {\n",
              "      background-color: #E2EBFA;\n",
              "      box-shadow: 0px 1px 2px rgba(60, 64, 67, 0.3), 0px 1px 3px 1px rgba(60, 64, 67, 0.15);\n",
              "      fill: #174EA6;\n",
              "    }\n",
              "\n",
              "    [theme=dark] .colab-df-convert {\n",
              "      background-color: #3B4455;\n",
              "      fill: #D2E3FC;\n",
              "    }\n",
              "\n",
              "    [theme=dark] .colab-df-convert:hover {\n",
              "      background-color: #434B5C;\n",
              "      box-shadow: 0px 1px 3px 1px rgba(0, 0, 0, 0.15);\n",
              "      filter: drop-shadow(0px 1px 2px rgba(0, 0, 0, 0.3));\n",
              "      fill: #FFFFFF;\n",
              "    }\n",
              "  </style>\n",
              "\n",
              "      <script>\n",
              "        const buttonEl =\n",
              "          document.querySelector('#df-2fe16a3d-9da4-414f-931f-d5b38a498145 button.colab-df-convert');\n",
              "        buttonEl.style.display =\n",
              "          google.colab.kernel.accessAllowed ? 'block' : 'none';\n",
              "\n",
              "        async function convertToInteractive(key) {\n",
              "          const element = document.querySelector('#df-2fe16a3d-9da4-414f-931f-d5b38a498145');\n",
              "          const dataTable =\n",
              "            await google.colab.kernel.invokeFunction('convertToInteractive',\n",
              "                                                     [key], {});\n",
              "          if (!dataTable) return;\n",
              "\n",
              "          const docLinkHtml = 'Like what you see? Visit the ' +\n",
              "            '<a target=\"_blank\" href=https://colab.research.google.com/notebooks/data_table.ipynb>data table notebook</a>'\n",
              "            + ' to learn more about interactive tables.';\n",
              "          element.innerHTML = '';\n",
              "          dataTable['output_type'] = 'display_data';\n",
              "          await google.colab.output.renderOutput(dataTable, element);\n",
              "          const docLink = document.createElement('div');\n",
              "          docLink.innerHTML = docLinkHtml;\n",
              "          element.appendChild(docLink);\n",
              "        }\n",
              "      </script>\n",
              "    </div>\n",
              "  </div>\n",
              "  "
            ]
          },
          "metadata": {},
          "execution_count": 359
        }
      ]
    },
    {
      "cell_type": "markdown",
      "source": [
        "**H0: Traffic Sources  tidak berhubungan dengan Loyal atau Tidak Loyal**<br>\n",
        "**H1: Traffic Sources berhubungan dengan Loyal atau Tidak Loyal**"
      ],
      "metadata": {
        "id": "aZ4G4qXFKPIM"
      }
    },
    {
      "cell_type": "code",
      "source": [
        "stat, p, dof, expected = stats.chi2_contingency(contigency_table)\n",
        "print('p=%.3f' % (p))\n",
        "if p > 0.05:\n",
        "    print('Probably independent')\n",
        "else:\n",
        "    print('Probably dependent')"
      ],
      "metadata": {
        "colab": {
          "base_uri": "https://localhost:8080/"
        },
        "id": "BA9aJDvFErv5",
        "outputId": "e063ba8f-49ce-4fc7-84bf-116f5bcea78d"
      },
      "execution_count": 361,
      "outputs": [
        {
          "output_type": "stream",
          "name": "stdout",
          "text": [
            "p=0.089\n",
            "Probably independent\n"
          ]
        }
      ]
    },
    {
      "cell_type": "markdown",
      "source": [
        "Dari hasil perhitungan dengan Chi-Square test antara 2 variabel yaitu Traffic Source dan Loyal menunjukkan bahwa hasil dari perhitungan Chi-Square mendapatkan hasil P = 0.089 yang mana hasil itu lebih besar dari batas nilai 0.05 atau (0.089 > 0.05), bisa juga disebut bahwa kedua variabel adalah independent. Hasilnya hipotesis menyatakan H0(Hipotesis Null) gagal di tolak dan H1(Hipotesis Alternatif) berhasil di tolak. Dapat disimpulkan bahwa kedua variabel tidak saling berhubungan."
      ],
      "metadata": {
        "id": "EPZ6bVh4N9Bz"
      }
    },
    {
      "cell_type": "markdown",
      "source": [
        "# Poin Analisis"
      ],
      "metadata": {
        "id": "w2LMVqIuW_-1"
      }
    },
    {
      "cell_type": "markdown",
      "source": [
        "Setelah kita melakukan analisis secara menyeluruh pada DataSet The Look Ecommerce selama periode Januari - Juni 2022 dari total keseluruhan user yang ada, kita dapat menarik benang merah dari keseluruhan analisis.\n",
        "\n",
        "Bisa disimpulkan user loyal sangatlah sedikit dari keseluruhan total user yang ada, hanya sekitar 19 persen user yang melakukan transaksi lebih dari 3 kali di platform The look Ecommerce. Hal ini bisa ditinjau lagi, apakah sedikitnya jumlah user yang melakukan transaksi disebabkan oleh harga yang terlalu mahal dibanding platform lain atau bisa disebabkan barang yang di jual kurang menarik untuk pembeli di negara tertentu.\n",
        "\n",
        "Jika kita melihat dari jumlah transaksi user loyal, transaksi paling banyak yang di lakukan user loyal sebanyak 11 kali transaksi dan rata-rata kebanyakan user loyal melakukan transaksi di platform The Look Ecommerce sebanyak 3.79 kali.\n",
        "\n",
        "Kita juga mengetahui jumlah uang yang sudah dihabiskan oleh user loyal di platform The Look Ecommerce. User loyal paling sedikit menghabiskan uang sejumlah 24.21 Dollar dan user loyal yang yang paling banyak menghabiskan uang sejumlah 1380.72 Dollar. Rata- rata uang yang dihabiskan dari seluruh user loyal di kisaran 218.64 Dollar.Tentu kita mengabaikan transaksi yang berstatus Cancelled dan Returned karena uang user tentu harus dikembalikan dan tidak masuk ke kas perusahaan.\n",
        "\n",
        "Setelah melihat Traffic Source yang banyak digunakan oleh user loyal, Saya dapat menyarankan kepada Divisi Marketing atau Digital Marketing bisa memaksimalkan pemasaran melalui 2 tipe Traffic Source yaitu Search yang diakses oleh user sebanyak 4206 kali dan Organics yang di akses user sebanyak 865 kali. Sehingga cost iklan bisa digunakan lebih efisien dengan hasil iklan yang maksimal atau bahkan cost iklan bisa lebih murah.\n",
        "\n",
        "Kita juga telah mengklasifikasikan user loyal minimal telah melakukan transaksi minimal 3 kali dan untuk transaksi yang masih di bawah 3 kali kita bisa bilang user tidak loyal. Perhitungan transaksi diambil dari keseluruhan transaksi yang telah dilakukan user dari Traffic Source manapun. Sehingga bisa dibilang Traffic Sources tidak mempengaruhi kategori dari user loyal maupun tidak loyal.\n",
        "\n",
        "\n"
      ],
      "metadata": {
        "id": "88-Nx-CmXCxR"
      }
    },
    {
      "cell_type": "markdown",
      "source": [
        "# Poin Pertanyaan"
      ],
      "metadata": {
        "id": "czHVf8ehW7hp"
      }
    },
    {
      "cell_type": "markdown",
      "source": [
        "1. Apakah problem statement yang kamu definisikan di awal dapat terukur ketercapaiannya? berikan pendapatmu!<br>\n",
        "Jawab = Iya, Karena berdasarkan kaidah 5W + 1H.\n",
        "2. Apa yang dimaksud dengan customer/user retention?<br>\n",
        "Jawab = user retention adalah user yang telah melakukan minimal 3 kali transaksi dan dalam kasus analisis di atas user retention termasuk user loyal.\n",
        "\n",
        "3. Jika platform The Look membuat fitur tambahan, apakah kamu akan merekomendasikan/memprioritaskan kepada user loyal? apa pertimbanganmu?<br>\n",
        "Jawab = Iya, saya akan merekomendasikan kepada user loyal. Jika ditinjau dari banyaknya transaksi yang dilakukan user loyal berarti produk yang kita jual merupakan produk yang sering dibutuhkan oleh user loyal atau kita bisa sebut mereka adalah target market kita. Tentu lebih tinggi kemungkinan user loyal akan melakukan repeat order, sehingga ketika kita menawarkan fitur baru kepada user loyal, mereka cenderung akan tetap setia untuk menggunakan platform The Look karena terdapat update fitur yang mempermudah mereka.\n"
      ],
      "metadata": {
        "id": "H_WW4kauWyUk"
      }
    }
  ]
}